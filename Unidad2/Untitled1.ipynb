{
  "nbformat": 4,
  "nbformat_minor": 0,
  "metadata": {
    "colab": {
      "provenance": [],
      "authorship_tag": "ABX9TyMoXXIVXO2NP7UibSmaL7tr",
      "include_colab_link": true
    },
    "kernelspec": {
      "name": "python3",
      "display_name": "Python 3"
    },
    "language_info": {
      "name": "python"
    }
  },
  "cells": [
    {
      "cell_type": "markdown",
      "metadata": {
        "id": "view-in-github",
        "colab_type": "text"
      },
      "source": [
        "<a href=\"https://colab.research.google.com/github/HazielBarbaRodriguez/PROBABILIDAD_Y_Estadistica/blob/main/Unidad2/Untitled1.ipynb\" target=\"_parent\"><img src=\"https://colab.research.google.com/assets/colab-badge.svg\" alt=\"Open In Colab\"/></a>"
      ]
    },
    {
      "cell_type": "markdown",
      "source": [
        "# UNIDAD 2\n",
        "\n",
        "PRACTICA 1\n",
        "\n",
        "**combinaciones**\n",
        "\n",
        "Facilitador: Dr José Gabriel Rodríguez Rivas\n",
        "\n",
        "Alumno: Haziel Alexander Barba Rodríguez"
      ],
      "metadata": {
        "id": "yg2Za9B3WLdG"
      }
    },
    {
      "cell_type": "code",
      "source": [
        "import math as mt # Para utilizar factoria\n",
        "from itertools import combinations\n",
        "from itertools import combinations_with_replacement\n",
        "import numpy as np"
      ],
      "metadata": {
        "id": "GlLazT_dWKPP"
      },
      "execution_count": 2,
      "outputs": []
    },
    {
      "cell_type": "code",
      "execution_count": 3,
      "metadata": {
        "colab": {
          "base_uri": "https://localhost:8080/"
        },
        "id": "NZgdwtCfSk5P",
        "outputId": "bfdd3897-667b-4fec-b2c8-a5e0f55512ae"
      },
      "outputs": [
        {
          "output_type": "stream",
          "name": "stdout",
          "text": [
            "Existen  45.0  Posibles combinaciones sin repetición del total de  10  nombres   en grupos de  2  en  2\n",
            "Aquí las combinaciones\n",
            "('Oscar', 'Paco')\n",
            "('Oscar', 'Paty')\n",
            "('Oscar', 'Laura')\n",
            "('Oscar', 'Rubén')\n",
            "('Oscar', 'Luis')\n",
            "('Oscar', 'Lucy')\n",
            "('Oscar', 'Alberto')\n",
            "('Oscar', 'Juan')\n",
            "('Oscar', 'Danny')\n",
            "('Paco', 'Paty')\n",
            "('Paco', 'Laura')\n",
            "('Paco', 'Rubén')\n",
            "('Paco', 'Luis')\n",
            "('Paco', 'Lucy')\n",
            "('Paco', 'Alberto')\n",
            "('Paco', 'Juan')\n",
            "('Paco', 'Danny')\n",
            "('Paty', 'Laura')\n",
            "('Paty', 'Rubén')\n",
            "('Paty', 'Luis')\n",
            "('Paty', 'Lucy')\n",
            "('Paty', 'Alberto')\n",
            "('Paty', 'Juan')\n",
            "('Paty', 'Danny')\n",
            "('Laura', 'Rubén')\n",
            "('Laura', 'Luis')\n",
            "('Laura', 'Lucy')\n",
            "('Laura', 'Alberto')\n",
            "('Laura', 'Juan')\n",
            "('Laura', 'Danny')\n",
            "('Rubén', 'Luis')\n",
            "('Rubén', 'Lucy')\n",
            "('Rubén', 'Alberto')\n",
            "('Rubén', 'Juan')\n",
            "('Rubén', 'Danny')\n",
            "('Luis', 'Lucy')\n",
            "('Luis', 'Alberto')\n",
            "('Luis', 'Juan')\n",
            "('Luis', 'Danny')\n",
            "('Lucy', 'Alberto')\n",
            "('Lucy', 'Juan')\n",
            "('Lucy', 'Danny')\n",
            "('Alberto', 'Juan')\n",
            "('Alberto', 'Danny')\n",
            "('Juan', 'Danny')\n"
          ]
        }
      ],
      "source": [
        "nombres = [\"Oscar\", \"Paco\", \"Paty\", \"Laura\", \"Rubén\", \"Luis\", \"Lucy\", \"Alberto\", \"Juan\", \"Danny\"]\n",
        "n = len (nombres)\n",
        "r = 2 # ¿como agrupar?\n",
        "Cn = mt.factorial(n) / (mt.factorial(r) * mt.factorial(n-r))\n",
        "print( \"Existen \", Cn , \" Posibles combinaciones sin repetición del total de \",\n",
        "      n , \" nombres \", \" en grupos de \", r , \" en \", r)\n",
        "\n",
        "print (\"Aquí las combinaciones\")\n",
        "combinaciones_nombres = list(combinations (nombres, r))\n",
        "# Imprime las combinaciones\n",
        "for combinacion in combinaciones_nombres:\n",
        "       print (combinacion)"
      ]
    },
    {
      "cell_type": "markdown",
      "source": [
        " pagina 28 el ejemplo de combinaciones sin repetición de letras"
      ],
      "metadata": {
        "id": "1O44c5VqYkqA"
      }
    },
    {
      "cell_type": "code",
      "source": [
        "caracteres = [\"A\", \"B\", \"C\", \"D\", \"E\", \"F\", \"®\", \"1\", \"2\", \"3\", \"4\", \"5\"]\n",
        "n = len(caracteres)\n",
        "r = 10 # ¿cómo agrupar?\n",
        "Cn = mt. factorial(n) / (mt.factorial(r) * mt.factorial(n-r))\n",
        "\n",
        "print (\"Existen \", Cn , \" posibles combinaciones sin repetición del total del total \", n ,\n",
        "\" Caracteres \" , \" en grupos de \", r , \" en \", r)\n",
        "print (\"Aquí las combinaciones\")\n",
        "combinaciones_caracteres = list(combinations (caracteres, r))\n",
        "# Imprime las combinaciones\n",
        "for combinacion in combinaciones_caracteres:\n",
        "  print (combinacion)\n"
      ],
      "metadata": {
        "colab": {
          "base_uri": "https://localhost:8080/"
        },
        "id": "luYxDmMrYaWV",
        "outputId": "ab82f6c4-0cb7-4b71-f4f0-a7ccbb1b971a"
      },
      "execution_count": 5,
      "outputs": [
        {
          "output_type": "stream",
          "name": "stdout",
          "text": [
            "Existen  66.0  posibles combinaciones sin repetición del total del total  12  Caracteres   en grupos de  10  en  10\n",
            "Aquí las combinaciones\n",
            "('A', 'B', 'C', 'D', 'E', 'F', '®', '1', '2', '3')\n",
            "('A', 'B', 'C', 'D', 'E', 'F', '®', '1', '2', '4')\n",
            "('A', 'B', 'C', 'D', 'E', 'F', '®', '1', '2', '5')\n",
            "('A', 'B', 'C', 'D', 'E', 'F', '®', '1', '3', '4')\n",
            "('A', 'B', 'C', 'D', 'E', 'F', '®', '1', '3', '5')\n",
            "('A', 'B', 'C', 'D', 'E', 'F', '®', '1', '4', '5')\n",
            "('A', 'B', 'C', 'D', 'E', 'F', '®', '2', '3', '4')\n",
            "('A', 'B', 'C', 'D', 'E', 'F', '®', '2', '3', '5')\n",
            "('A', 'B', 'C', 'D', 'E', 'F', '®', '2', '4', '5')\n",
            "('A', 'B', 'C', 'D', 'E', 'F', '®', '3', '4', '5')\n",
            "('A', 'B', 'C', 'D', 'E', 'F', '1', '2', '3', '4')\n",
            "('A', 'B', 'C', 'D', 'E', 'F', '1', '2', '3', '5')\n",
            "('A', 'B', 'C', 'D', 'E', 'F', '1', '2', '4', '5')\n",
            "('A', 'B', 'C', 'D', 'E', 'F', '1', '3', '4', '5')\n",
            "('A', 'B', 'C', 'D', 'E', 'F', '2', '3', '4', '5')\n",
            "('A', 'B', 'C', 'D', 'E', '®', '1', '2', '3', '4')\n",
            "('A', 'B', 'C', 'D', 'E', '®', '1', '2', '3', '5')\n",
            "('A', 'B', 'C', 'D', 'E', '®', '1', '2', '4', '5')\n",
            "('A', 'B', 'C', 'D', 'E', '®', '1', '3', '4', '5')\n",
            "('A', 'B', 'C', 'D', 'E', '®', '2', '3', '4', '5')\n",
            "('A', 'B', 'C', 'D', 'E', '1', '2', '3', '4', '5')\n",
            "('A', 'B', 'C', 'D', 'F', '®', '1', '2', '3', '4')\n",
            "('A', 'B', 'C', 'D', 'F', '®', '1', '2', '3', '5')\n",
            "('A', 'B', 'C', 'D', 'F', '®', '1', '2', '4', '5')\n",
            "('A', 'B', 'C', 'D', 'F', '®', '1', '3', '4', '5')\n",
            "('A', 'B', 'C', 'D', 'F', '®', '2', '3', '4', '5')\n",
            "('A', 'B', 'C', 'D', 'F', '1', '2', '3', '4', '5')\n",
            "('A', 'B', 'C', 'D', '®', '1', '2', '3', '4', '5')\n",
            "('A', 'B', 'C', 'E', 'F', '®', '1', '2', '3', '4')\n",
            "('A', 'B', 'C', 'E', 'F', '®', '1', '2', '3', '5')\n",
            "('A', 'B', 'C', 'E', 'F', '®', '1', '2', '4', '5')\n",
            "('A', 'B', 'C', 'E', 'F', '®', '1', '3', '4', '5')\n",
            "('A', 'B', 'C', 'E', 'F', '®', '2', '3', '4', '5')\n",
            "('A', 'B', 'C', 'E', 'F', '1', '2', '3', '4', '5')\n",
            "('A', 'B', 'C', 'E', '®', '1', '2', '3', '4', '5')\n",
            "('A', 'B', 'C', 'F', '®', '1', '2', '3', '4', '5')\n",
            "('A', 'B', 'D', 'E', 'F', '®', '1', '2', '3', '4')\n",
            "('A', 'B', 'D', 'E', 'F', '®', '1', '2', '3', '5')\n",
            "('A', 'B', 'D', 'E', 'F', '®', '1', '2', '4', '5')\n",
            "('A', 'B', 'D', 'E', 'F', '®', '1', '3', '4', '5')\n",
            "('A', 'B', 'D', 'E', 'F', '®', '2', '3', '4', '5')\n",
            "('A', 'B', 'D', 'E', 'F', '1', '2', '3', '4', '5')\n",
            "('A', 'B', 'D', 'E', '®', '1', '2', '3', '4', '5')\n",
            "('A', 'B', 'D', 'F', '®', '1', '2', '3', '4', '5')\n",
            "('A', 'B', 'E', 'F', '®', '1', '2', '3', '4', '5')\n",
            "('A', 'C', 'D', 'E', 'F', '®', '1', '2', '3', '4')\n",
            "('A', 'C', 'D', 'E', 'F', '®', '1', '2', '3', '5')\n",
            "('A', 'C', 'D', 'E', 'F', '®', '1', '2', '4', '5')\n",
            "('A', 'C', 'D', 'E', 'F', '®', '1', '3', '4', '5')\n",
            "('A', 'C', 'D', 'E', 'F', '®', '2', '3', '4', '5')\n",
            "('A', 'C', 'D', 'E', 'F', '1', '2', '3', '4', '5')\n",
            "('A', 'C', 'D', 'E', '®', '1', '2', '3', '4', '5')\n",
            "('A', 'C', 'D', 'F', '®', '1', '2', '3', '4', '5')\n",
            "('A', 'C', 'E', 'F', '®', '1', '2', '3', '4', '5')\n",
            "('A', 'D', 'E', 'F', '®', '1', '2', '3', '4', '5')\n",
            "('B', 'C', 'D', 'E', 'F', '®', '1', '2', '3', '4')\n",
            "('B', 'C', 'D', 'E', 'F', '®', '1', '2', '3', '5')\n",
            "('B', 'C', 'D', 'E', 'F', '®', '1', '2', '4', '5')\n",
            "('B', 'C', 'D', 'E', 'F', '®', '1', '3', '4', '5')\n",
            "('B', 'C', 'D', 'E', 'F', '®', '2', '3', '4', '5')\n",
            "('B', 'C', 'D', 'E', 'F', '1', '2', '3', '4', '5')\n",
            "('B', 'C', 'D', 'E', '®', '1', '2', '3', '4', '5')\n",
            "('B', 'C', 'D', 'F', '®', '1', '2', '3', '4', '5')\n",
            "('B', 'C', 'E', 'F', '®', '1', '2', '3', '4', '5')\n",
            "('B', 'D', 'E', 'F', '®', '1', '2', '3', '4', '5')\n",
            "('C', 'D', 'E', 'F', '®', '1', '2', '3', '4', '5')\n"
          ]
        }
      ]
    },
    {
      "cell_type": "markdown",
      "source": [
        "**Combinaciones con repetición**"
      ],
      "metadata": {
        "id": "QvK5B_eowpVX"
      }
    },
    {
      "cell_type": "code",
      "source": [
        "dado = [1, 2, 3, 4, 5, 6]\n",
        "n = len(dado)\n",
        "r = 2 # ¿cómo agrupar?, de dos en dos porque hay dos dados\n",
        "\n",
        "CnR = mt.factorial(n+r-1) / (mt.factorial(r) * mt.factorial((n+r-1)-r))\n",
        "\n",
        "print(\"Existen \", CnR ,\"posibles combinaciones con repetición del total de\", n ,\n",
        "\" caracteres \", \" en grupos de \", r , \" en \", r)\n",
        "\n",
        "print(\"Aquí las combinaciones con repetición de dos dados\")\n",
        "\n",
        "# Definir el conjunto de elementos\n",
        "elementos = [1, 2, 3, 4, 5, 6]\n",
        "\n",
        "# Número de elementos a elegir en cada combinación\n",
        "r = 2\n",
        "\n",
        "# Calcular Las combinaciones con repetición\n",
        "combinaciones_dados = list(combinations_with_replacement(dado, r))\n",
        "\n",
        "# Imprimir las combinaciones\n",
        "for combinacion in combinaciones_dados:\n",
        "  print(combinacion)\n"
      ],
      "metadata": {
        "colab": {
          "base_uri": "https://localhost:8080/"
        },
        "id": "eR-fe8yTwsH_",
        "outputId": "209988be-705e-4e5f-f835-73fb5225c4e4"
      },
      "execution_count": 6,
      "outputs": [
        {
          "output_type": "stream",
          "name": "stdout",
          "text": [
            "Existen  21.0 posibles combinaciones con repetición del total de 6  caracteres   en grupos de  2  en  2\n",
            "Aquí las combinaciones con repetición de dos dados\n",
            "(1, 1)\n",
            "(1, 2)\n",
            "(1, 3)\n",
            "(1, 4)\n",
            "(1, 5)\n",
            "(1, 6)\n",
            "(2, 2)\n",
            "(2, 3)\n",
            "(2, 4)\n",
            "(2, 5)\n",
            "(2, 6)\n",
            "(3, 3)\n",
            "(3, 4)\n",
            "(3, 5)\n",
            "(3, 6)\n",
            "(4, 4)\n",
            "(4, 5)\n",
            "(4, 6)\n",
            "(5, 5)\n",
            "(5, 6)\n",
            "(6, 6)\n"
          ]
        }
      ]
    }
  ]
}
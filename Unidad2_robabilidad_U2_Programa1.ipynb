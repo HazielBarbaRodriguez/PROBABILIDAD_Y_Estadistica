{
  "nbformat": 4,
  "nbformat_minor": 0,
  "metadata": {
    "colab": {
      "provenance": [],
      "authorship_tag": "ABX9TyNmgGoQIAHrXMZZ4lbqo7NI",
      "include_colab_link": true
    },
    "kernelspec": {
      "name": "python3",
      "display_name": "Python 3"
    },
    "language_info": {
      "name": "python"
    }
  },
  "cells": [
    {
      "cell_type": "markdown",
      "metadata": {
        "id": "view-in-github",
        "colab_type": "text"
      },
      "source": [
        "<a href=\"https://colab.research.google.com/github/HazielBarbaRodriguez/PROBABILIDAD_Y_Estadistica/blob/main/Unidad2_robabilidad_U2_Programa1.ipynb\" target=\"_parent\"><img src=\"https://colab.research.google.com/assets/colab-badge.svg\" alt=\"Open In Colab\"/></a>"
      ]
    },
    {
      "cell_type": "markdown",
      "source": [
        "# probabilidad_U2_Programa1\n",
        "\n",
        "Unidad 2\n",
        "\n",
        "**pagina 25 combinaciones sin repetición**\n",
        "\n",
        "Facilitador: Dr José Gabirel Rodríguez Rivas\n",
        "\n",
        "Alumno: Haziel Alexander Barba Rodríguez\n",
        "\n"
      ],
      "metadata": {
        "id": "s_NvvTjB2HFz"
      }
    },
    {
      "cell_type": "code",
      "execution_count": 2,
      "metadata": {
        "id": "xbGr_1qX0QDg"
      },
      "outputs": [],
      "source": [
        "import math as mt # Para utilizar factorial\n",
        "from itertools import combinations\n",
        "from itertools import combinations_with_replacement\n",
        "import numpy as np"
      ]
    },
    {
      "cell_type": "code",
      "source": [
        "nombres = [\"Oscar\", \"Paco\", \"Paty\", \"Laura\", \"Rubén\", \"Luis\", \"Lucy\", \"Alberto\", \"Juan\", \"Danny\"]\n",
        "n = len (nombres)\n",
        "r = 2 # ¿como agrupar?\n",
        "\n",
        "Cn = mt. factorial(n) / (mt. factorial(r) * mt. factorial(n-r))\n",
        "\n",
        "print( \"Existen \", Cn , \" posibles combinaciones sin repetición del total de \",\n",
        "      n, \" nombres\",\" en grupo de \", r ,\" en \", r)\n",
        "\n",
        "print (\"Aquí las combinaciones\")\n",
        "combinaciones_nombres = list(combinations (nombres, r))\n",
        "\n",
        "# Imprime las combinaciones\n",
        "for combinacion in combinaciones_nombres:\n",
        "   print (combinacion)"
      ],
      "metadata": {
        "colab": {
          "base_uri": "https://localhost:8080/"
        },
        "id": "2rUbP_b38PBK",
        "outputId": "49c59507-6b35-488b-f317-dcddf1b4a2b5"
      },
      "execution_count": 4,
      "outputs": [
        {
          "output_type": "stream",
          "name": "stdout",
          "text": [
            "Existen  45.0  posibles combinaciones sin repetición del total de  10  nombres  en grupo de  2  en  2\n",
            "Aquí las combinaciones\n",
            "('Oscar', 'Paco')\n",
            "('Oscar', 'Paty')\n",
            "('Oscar', 'Laura')\n",
            "('Oscar', 'Rubén')\n",
            "('Oscar', 'Luis')\n",
            "('Oscar', 'Lucy')\n",
            "('Oscar', 'Alberto')\n",
            "('Oscar', 'Juan')\n",
            "('Oscar', 'Danny')\n",
            "('Paco', 'Paty')\n",
            "('Paco', 'Laura')\n",
            "('Paco', 'Rubén')\n",
            "('Paco', 'Luis')\n",
            "('Paco', 'Lucy')\n",
            "('Paco', 'Alberto')\n",
            "('Paco', 'Juan')\n",
            "('Paco', 'Danny')\n",
            "('Paty', 'Laura')\n",
            "('Paty', 'Rubén')\n",
            "('Paty', 'Luis')\n",
            "('Paty', 'Lucy')\n",
            "('Paty', 'Alberto')\n",
            "('Paty', 'Juan')\n",
            "('Paty', 'Danny')\n",
            "('Laura', 'Rubén')\n",
            "('Laura', 'Luis')\n",
            "('Laura', 'Lucy')\n",
            "('Laura', 'Alberto')\n",
            "('Laura', 'Juan')\n",
            "('Laura', 'Danny')\n",
            "('Rubén', 'Luis')\n",
            "('Rubén', 'Lucy')\n",
            "('Rubén', 'Alberto')\n",
            "('Rubén', 'Juan')\n",
            "('Rubén', 'Danny')\n",
            "('Luis', 'Lucy')\n",
            "('Luis', 'Alberto')\n",
            "('Luis', 'Juan')\n",
            "('Luis', 'Danny')\n",
            "('Lucy', 'Alberto')\n",
            "('Lucy', 'Juan')\n",
            "('Lucy', 'Danny')\n",
            "('Alberto', 'Juan')\n",
            "('Alberto', 'Danny')\n",
            "('Juan', 'Danny')\n"
          ]
        }
      ]
    },
    {
      "cell_type": "markdown",
      "source": [
        "pagina 28 el ejemplo de combinaciones sin repetición de letras"
      ],
      "metadata": {
        "id": "jr9W1wA382rk"
      }
    },
    {
      "cell_type": "code",
      "source": [
        "caracteres = [\"A\", \"B\", \"C\", \"D\", \"E\", \"F\", \"®\", \"1\", \"2\", \"3\", \"4\", \"5\"]\n",
        "n = len(caracteres)\n",
        "r = 10 # ¿cómo agrupar?\n",
        "\n",
        "Cn = mt. factorial(n) / (mt.factorial(r) * mt.factorial(n-r))\n",
        "\n",
        "print (\"Existen \", Cn, \" posibles combinaciones sin repetición del total de \", n ,\n",
        "       \" caracteres\",\"en grupos de \", r ,\" en \", r)\n",
        "\n",
        "print (\"Aquí las combinaciones\")\n",
        "combinaciones_caracteres = list(combinations (caracteres, r))\n",
        "\n",
        "# Imprime las combinaciones\n",
        "for combinacion in combinaciones_caracteres:\n",
        "  print (combinacion)"
      ],
      "metadata": {
        "colab": {
          "base_uri": "https://localhost:8080/"
        },
        "id": "VnBscVrR88jJ",
        "outputId": "398b666c-e184-40c9-a584-20787690fe6f"
      },
      "execution_count": 5,
      "outputs": [
        {
          "output_type": "stream",
          "name": "stdout",
          "text": [
            "Existen  66.0  posibles combinaciones sin repetición del total de  12  caracteres en grupos de  10  en  10\n",
            "Aquí las combinaciones\n",
            "('A', 'B', 'C', 'D', 'E', 'F', '®', '1', '2', '3')\n",
            "('A', 'B', 'C', 'D', 'E', 'F', '®', '1', '2', '4')\n",
            "('A', 'B', 'C', 'D', 'E', 'F', '®', '1', '2', '5')\n",
            "('A', 'B', 'C', 'D', 'E', 'F', '®', '1', '3', '4')\n",
            "('A', 'B', 'C', 'D', 'E', 'F', '®', '1', '3', '5')\n",
            "('A', 'B', 'C', 'D', 'E', 'F', '®', '1', '4', '5')\n",
            "('A', 'B', 'C', 'D', 'E', 'F', '®', '2', '3', '4')\n",
            "('A', 'B', 'C', 'D', 'E', 'F', '®', '2', '3', '5')\n",
            "('A', 'B', 'C', 'D', 'E', 'F', '®', '2', '4', '5')\n",
            "('A', 'B', 'C', 'D', 'E', 'F', '®', '3', '4', '5')\n",
            "('A', 'B', 'C', 'D', 'E', 'F', '1', '2', '3', '4')\n",
            "('A', 'B', 'C', 'D', 'E', 'F', '1', '2', '3', '5')\n",
            "('A', 'B', 'C', 'D', 'E', 'F', '1', '2', '4', '5')\n",
            "('A', 'B', 'C', 'D', 'E', 'F', '1', '3', '4', '5')\n",
            "('A', 'B', 'C', 'D', 'E', 'F', '2', '3', '4', '5')\n",
            "('A', 'B', 'C', 'D', 'E', '®', '1', '2', '3', '4')\n",
            "('A', 'B', 'C', 'D', 'E', '®', '1', '2', '3', '5')\n",
            "('A', 'B', 'C', 'D', 'E', '®', '1', '2', '4', '5')\n",
            "('A', 'B', 'C', 'D', 'E', '®', '1', '3', '4', '5')\n",
            "('A', 'B', 'C', 'D', 'E', '®', '2', '3', '4', '5')\n",
            "('A', 'B', 'C', 'D', 'E', '1', '2', '3', '4', '5')\n",
            "('A', 'B', 'C', 'D', 'F', '®', '1', '2', '3', '4')\n",
            "('A', 'B', 'C', 'D', 'F', '®', '1', '2', '3', '5')\n",
            "('A', 'B', 'C', 'D', 'F', '®', '1', '2', '4', '5')\n",
            "('A', 'B', 'C', 'D', 'F', '®', '1', '3', '4', '5')\n",
            "('A', 'B', 'C', 'D', 'F', '®', '2', '3', '4', '5')\n",
            "('A', 'B', 'C', 'D', 'F', '1', '2', '3', '4', '5')\n",
            "('A', 'B', 'C', 'D', '®', '1', '2', '3', '4', '5')\n",
            "('A', 'B', 'C', 'E', 'F', '®', '1', '2', '3', '4')\n",
            "('A', 'B', 'C', 'E', 'F', '®', '1', '2', '3', '5')\n",
            "('A', 'B', 'C', 'E', 'F', '®', '1', '2', '4', '5')\n",
            "('A', 'B', 'C', 'E', 'F', '®', '1', '3', '4', '5')\n",
            "('A', 'B', 'C', 'E', 'F', '®', '2', '3', '4', '5')\n",
            "('A', 'B', 'C', 'E', 'F', '1', '2', '3', '4', '5')\n",
            "('A', 'B', 'C', 'E', '®', '1', '2', '3', '4', '5')\n",
            "('A', 'B', 'C', 'F', '®', '1', '2', '3', '4', '5')\n",
            "('A', 'B', 'D', 'E', 'F', '®', '1', '2', '3', '4')\n",
            "('A', 'B', 'D', 'E', 'F', '®', '1', '2', '3', '5')\n",
            "('A', 'B', 'D', 'E', 'F', '®', '1', '2', '4', '5')\n",
            "('A', 'B', 'D', 'E', 'F', '®', '1', '3', '4', '5')\n",
            "('A', 'B', 'D', 'E', 'F', '®', '2', '3', '4', '5')\n",
            "('A', 'B', 'D', 'E', 'F', '1', '2', '3', '4', '5')\n",
            "('A', 'B', 'D', 'E', '®', '1', '2', '3', '4', '5')\n",
            "('A', 'B', 'D', 'F', '®', '1', '2', '3', '4', '5')\n",
            "('A', 'B', 'E', 'F', '®', '1', '2', '3', '4', '5')\n",
            "('A', 'C', 'D', 'E', 'F', '®', '1', '2', '3', '4')\n",
            "('A', 'C', 'D', 'E', 'F', '®', '1', '2', '3', '5')\n",
            "('A', 'C', 'D', 'E', 'F', '®', '1', '2', '4', '5')\n",
            "('A', 'C', 'D', 'E', 'F', '®', '1', '3', '4', '5')\n",
            "('A', 'C', 'D', 'E', 'F', '®', '2', '3', '4', '5')\n",
            "('A', 'C', 'D', 'E', 'F', '1', '2', '3', '4', '5')\n",
            "('A', 'C', 'D', 'E', '®', '1', '2', '3', '4', '5')\n",
            "('A', 'C', 'D', 'F', '®', '1', '2', '3', '4', '5')\n",
            "('A', 'C', 'E', 'F', '®', '1', '2', '3', '4', '5')\n",
            "('A', 'D', 'E', 'F', '®', '1', '2', '3', '4', '5')\n",
            "('B', 'C', 'D', 'E', 'F', '®', '1', '2', '3', '4')\n",
            "('B', 'C', 'D', 'E', 'F', '®', '1', '2', '3', '5')\n",
            "('B', 'C', 'D', 'E', 'F', '®', '1', '2', '4', '5')\n",
            "('B', 'C', 'D', 'E', 'F', '®', '1', '3', '4', '5')\n",
            "('B', 'C', 'D', 'E', 'F', '®', '2', '3', '4', '5')\n",
            "('B', 'C', 'D', 'E', 'F', '1', '2', '3', '4', '5')\n",
            "('B', 'C', 'D', 'E', '®', '1', '2', '3', '4', '5')\n",
            "('B', 'C', 'D', 'F', '®', '1', '2', '3', '4', '5')\n",
            "('B', 'C', 'E', 'F', '®', '1', '2', '3', '4', '5')\n",
            "('B', 'D', 'E', 'F', '®', '1', '2', '3', '4', '5')\n",
            "('C', 'D', 'E', 'F', '®', '1', '2', '3', '4', '5')\n"
          ]
        }
      ]
    },
    {
      "cell_type": "markdown",
      "source": [
        "pagina 31 el ejemplo de combinaciones con repetición"
      ],
      "metadata": {
        "id": "sO46DFKe9zhL"
      }
    },
    {
      "cell_type": "code",
      "source": [
        "dado = [1, 2, 3, 4, 5, 6]\n",
        "n = len(dado)\n",
        "r = 2 # ¿cómo agrupar?, de dos en dos porque hay dos dados\n",
        "\n",
        "CnR = mt.factorial(n+r-1) / (mt.factorial(r) * mt.factorial((n+r-1)-r))\n",
        "\n",
        "print(\"Existen \", CnR ,\"posibles combinaciones con repetición del total de \", n ,\n",
        "      \" caracteres \",\" en grupos de \", r,\" en \", r)\n",
        "print(\"Aquí las combinaciones con repetición de dos dados\")\n",
        "\n",
        "# Definir el conjunto de elementos\n",
        "elementos = [1, 2, 3, 4, 5, 6]\n",
        "\n",
        "# Número de elementos a elegir en cada combinación\n",
        "r = 2\n",
        "# Calcular Las combinaciones con repetición\n",
        "combinaciones_dados = list(combinations_with_replacement(dado, r))\n",
        "\n",
        "# Imprimir las combinaciones\n",
        "for combinacion in combinaciones_dados:\n",
        "  print(combinacion)\n"
      ],
      "metadata": {
        "colab": {
          "base_uri": "https://localhost:8080/"
        },
        "id": "UI9Dn0uh9-Sc",
        "outputId": "648db67f-b548-4362-c56f-9b9fcf1ad7ca"
      },
      "execution_count": 6,
      "outputs": [
        {
          "output_type": "stream",
          "name": "stdout",
          "text": [
            "Existen  21.0 posibles combinaciones con repetición del total de  6  caracteres   en grupos de  2  en  2\n",
            "Aquí las combinaciones con repetición de dos dados\n",
            "(1, 1)\n",
            "(1, 2)\n",
            "(1, 3)\n",
            "(1, 4)\n",
            "(1, 5)\n",
            "(1, 6)\n",
            "(2, 2)\n",
            "(2, 3)\n",
            "(2, 4)\n",
            "(2, 5)\n",
            "(2, 6)\n",
            "(3, 3)\n",
            "(3, 4)\n",
            "(3, 5)\n",
            "(3, 6)\n",
            "(4, 4)\n",
            "(4, 5)\n",
            "(4, 6)\n",
            "(5, 5)\n",
            "(5, 6)\n",
            "(6, 6)\n"
          ]
        }
      ]
    }
  ]
}
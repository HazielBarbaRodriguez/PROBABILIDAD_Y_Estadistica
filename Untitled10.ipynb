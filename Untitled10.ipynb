{
  "nbformat": 4,
  "nbformat_minor": 0,
  "metadata": {
    "colab": {
      "provenance": [],
      "authorship_tag": "ABX9TyOGxI31L+KGlm5NEtQbRrLL",
      "include_colab_link": true
    },
    "kernelspec": {
      "name": "python3",
      "display_name": "Python 3"
    },
    "language_info": {
      "name": "python"
    }
  },
  "cells": [
    {
      "cell_type": "markdown",
      "metadata": {
        "id": "view-in-github",
        "colab_type": "text"
      },
      "source": [
        "<a href=\"https://colab.research.google.com/github/HazielBarbaRodriguez/PROBABILIDAD_Y_Estadistica/blob/main/Untitled10.ipynb\" target=\"_parent\"><img src=\"https://colab.research.google.com/assets/colab-badge.svg\" alt=\"Open In Colab\"/></a>"
      ]
    },
    {
      "cell_type": "markdown",
      "source": [
        "\n",
        "Probabilidad y estadistica\n",
        "\n",
        "Unidad. 4\n",
        "\n",
        "Poisson y Binomial\n",
        "\n",
        "Facilitador: Dr José Gabirel Rodríguez Rivas\n",
        "\n",
        "Alumno: Haziel Alexander Barba Rodríguez\n",
        "\n"
      ],
      "metadata": {
        "id": "kJ2A-ItF1EfF"
      }
    },
    {
      "cell_type": "markdown",
      "source": [
        "**Problema 1**\n",
        "\n",
        "El número x de personas ingresadas a una unidad de cuidados intensivos en un hospital particular, en un dia, tiene una distribución de probabilidad de Poisson con media igual a cinco personas por dia . . .\n",
        "\n",
        "**ESPECIFICACIÓN DE TIPO DE SOLUCIÓN**\n",
        "\n",
        "Elegí el modelo de Poisson porque se usa cuando estamos contando cuántas veces ocurre un evento raro en un periodo de tiempo. En este caso, estamos viendo cuántas personas ingresan a cuidados intensivos en un día, y como la media es de 5 personas por día, encaja bien con las condiciones para usar Poisson."
      ],
      "metadata": {
        "id": "ijnC4-k_1lc4"
      }
    },
    {
      "cell_type": "code",
      "source": [
        "from scipy.stats import poisson"
      ],
      "metadata": {
        "id": "zqCKWn2t0_dQ"
      },
      "execution_count": null,
      "outputs": []
    },
    {
      "cell_type": "code",
      "execution_count": null,
      "metadata": {
        "colab": {
          "base_uri": "https://localhost:8080/"
        },
        "id": "1m_kPk-tkkc_",
        "outputId": "13c9657d-3e74-4500-839e-817ecaedd762"
      },
      "outputs": [
        {
          "output_type": "stream",
          "name": "stdout",
          "text": [
            "a) P(X=2) = 0.0842\n",
            "b) P(X > 10) = 0.0137\n"
          ]
        }
      ],
      "source": [
        "\n",
        "# Media dada\n",
        "mu = 5\n",
        "\n",
        "# a) Probabilidad de que ingresen 2 personas\n",
        "prob_2 = poisson.pmf(2, mu)\n",
        "\n",
        "# b) Probabilidad de que ingresen más de 10 personas\n",
        "prob_mayor_10 = poisson.sf(10, mu)\n",
        "\n",
        "# Mostrar resultados\n",
        "print(f\"a) P(X=2) = {prob_2:.4f}\")\n",
        "print(f\"b) P(X > 10) = {prob_mayor_10:.4f}\")\n"
      ]
    },
    {
      "cell_type": "markdown",
      "source": [
        "**Problema 2**\n",
        "\n",
        "Un fabricante de podadoras para el pasto compra motores de 1 hp y 2 ciclos, en lotes de 1.000, a un proveedor\n",
        "\n",
        "El fabricate equipa cada una de las podadoras producidas por su planta con uno de los motores\n",
        "\n",
        "La histona muestra que la probabilidad de que cualquier motor del proveedor resulte no satisfactono es 001\n",
        "\n",
        "En un embarque de 1,000 motores, Calcular\n",
        "\n",
        "¿cuál es la probabilidad de que ninguno sea defectuoso?\n",
        "\n",
        "¿cuál es la probabilidad de que tres sean defectuosos\n",
        "\n",
        "¿cuál es la probabilidad de que cuatro sean defectuoso?"
      ],
      "metadata": {
        "id": "pikk8AtT77-E"
      }
    },
    {
      "cell_type": "markdown",
      "source": [
        "**ESPECIFICACIÓN DE TIPO DE SOLUCIÓN**\n",
        "\n",
        "Elegí usar el modelo binomial porque desde el momento en que leí el tipo de preguntas, como \"¿cuál es la probabilidad de que ninguno sea defectuoso?\", me di cuenta de que se trata de situaciones con solo dos posibles resultados: que un motor sea defectuoso (fracaso) o que no lo sea (éxito). Esa es una característica básica de la distribución binomial.\n"
      ],
      "metadata": {
        "id": "1tBlVqME8xk-"
      }
    },
    {
      "cell_type": "code",
      "source": [
        "from scipy.stats import binom"
      ],
      "metadata": {
        "id": "7KSaTQgf78vC"
      },
      "execution_count": null,
      "outputs": []
    },
    {
      "cell_type": "code",
      "source": [
        "\n",
        "n = 1000        # número de motores\n",
        "p = 0.001       # probabilidad de que un motor sea defectuoso\n",
        "\n",
        "# a) Probabilidad de que ninguno sea defectuoso\n",
        "prob_0 = binom.pmf(0, n, p)\n",
        "\n",
        "# b) Probabilidad de que exactamente 3 sean defectuosos\n",
        "prob_3 = binom.pmf(3, n, p)\n",
        "\n",
        "# c) Probabilidad de que exactamente 4 sean defectuosos\n",
        "prob_4 = binom.pmf(4, n, p)\n",
        "\n",
        "# Mostrar resultados\n",
        "print(f\"a) P(0 defectuosos) = {prob_0:.4f}\")\n",
        "print(f\"b) P(3 defectuosos) = {prob_3:.4f}\")\n",
        "print(f\"c) P(4 defectuosos) = {prob_4:.4f}\")\n"
      ],
      "metadata": {
        "colab": {
          "base_uri": "https://localhost:8080/"
        },
        "id": "k9ViprrD7ysO",
        "outputId": "0ea32de6-5614-4f76-a2c7-2a1976b9c5ee"
      },
      "execution_count": null,
      "outputs": [
        {
          "output_type": "stream",
          "name": "stdout",
          "text": [
            "a) P(0 defectuosos) = 0.3677\n",
            "b) P(3 defectuosos) = 0.0613\n",
            "c) P(4 defectuosos) = 0.0153\n"
          ]
        }
      ]
    }
  ]
}